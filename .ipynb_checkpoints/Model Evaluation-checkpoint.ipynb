{
 "cells": [
  {
   "cell_type": "code",
   "execution_count": 1,
   "metadata": {},
   "outputs": [],
   "source": [
    "import numpy as np\n",
    "import pandas as pd \n",
    "from datasets import list_metrics, load_metric"
   ]
  },
  {
   "cell_type": "code",
   "execution_count": 2,
   "metadata": {},
   "outputs": [
    {
     "data": {
      "text/html": [
       "<div>\n",
       "<style scoped>\n",
       "    .dataframe tbody tr th:only-of-type {\n",
       "        vertical-align: middle;\n",
       "    }\n",
       "\n",
       "    .dataframe tbody tr th {\n",
       "        vertical-align: top;\n",
       "    }\n",
       "\n",
       "    .dataframe thead th {\n",
       "        text-align: right;\n",
       "    }\n",
       "</style>\n",
       "<table border=\"1\" class=\"dataframe\">\n",
       "  <thead>\n",
       "    <tr style=\"text-align: right;\">\n",
       "      <th></th>\n",
       "      <th>Issue</th>\n",
       "      <th>Actual_Solution</th>\n",
       "      <th>Pred_Solution</th>\n",
       "      <th>Response_PPL</th>\n",
       "      <th>Total_PPL</th>\n",
       "    </tr>\n",
       "  </thead>\n",
       "  <tbody>\n",
       "    <tr>\n",
       "      <th>0</th>\n",
       "      <td>mrh aft scissors has side to side play        ...</td>\n",
       "      <td>removed, inspected, and reshimmed aft scissor...</td>\n",
       "      <td>inspected mrh aft scissor iaw 150-300. play is...</td>\n",
       "      <td>1.338561</td>\n",
       "      <td>1.715868</td>\n",
       "    </tr>\n",
       "    <tr>\n",
       "      <th>1</th>\n",
       "      <td>black mrh blade lower tip cap screws worn. car...</td>\n",
       "      <td>black mrh blade lower tip cap screws removed ...</td>\n",
       "      <td>removed and replaced black mrh blade lower tip...</td>\n",
       "      <td>1.156229</td>\n",
       "      <td>1.715868</td>\n",
       "    </tr>\n",
       "    <tr>\n",
       "      <th>2</th>\n",
       "      <td>blue mrb damper leaking out of limits.        ...</td>\n",
       "      <td>removed and replaced blue main rotor head dam...</td>\n",
       "      <td>removed and replaced blue main rotor damper ia...</td>\n",
       "      <td>1.621602</td>\n",
       "      <td>1.715868</td>\n",
       "    </tr>\n",
       "    <tr>\n",
       "      <th>3</th>\n",
       "      <td>left hand nose landing gear tire worn. \\n\\n###...</td>\n",
       "      <td>replaced left nose landing gear tire iaw sss ...</td>\n",
       "      <td>replaced lh nlg tire iaw sss 3240. ataf apaf a...</td>\n",
       "      <td>1.236525</td>\n",
       "      <td>1.715868</td>\n",
       "    </tr>\n",
       "    <tr>\n",
       "      <th>4</th>\n",
       "      <td>scir change:  16pmgg9.  yellow blade tip cap s...</td>\n",
       "      <td>removed and replaced yellow bladetip cap scre...</td>\n",
       "      <td>removed and replased all tip cap screws iaw 15...</td>\n",
       "      <td>2.087995</td>\n",
       "      <td>1.715868</td>\n",
       "    </tr>\n",
       "  </tbody>\n",
       "</table>\n",
       "</div>"
      ],
      "text/plain": [
       "                                               Issue  \\\n",
       "0  mrh aft scissors has side to side play        ...   \n",
       "1  black mrh blade lower tip cap screws worn. car...   \n",
       "2  blue mrb damper leaking out of limits.        ...   \n",
       "3  left hand nose landing gear tire worn. \\n\\n###...   \n",
       "4  scir change:  16pmgg9.  yellow blade tip cap s...   \n",
       "\n",
       "                                     Actual_Solution  \\\n",
       "0   removed, inspected, and reshimmed aft scissor...   \n",
       "1   black mrh blade lower tip cap screws removed ...   \n",
       "2   removed and replaced blue main rotor head dam...   \n",
       "3   replaced left nose landing gear tire iaw sss ...   \n",
       "4   removed and replaced yellow bladetip cap scre...   \n",
       "\n",
       "                                       Pred_Solution  Response_PPL  Total_PPL  \n",
       "0  inspected mrh aft scissor iaw 150-300. play is...      1.338561   1.715868  \n",
       "1  removed and replaced black mrh blade lower tip...      1.156229   1.715868  \n",
       "2  removed and replaced blue main rotor damper ia...      1.621602   1.715868  \n",
       "3  replaced lh nlg tire iaw sss 3240. ataf apaf a...      1.236525   1.715868  \n",
       "4  removed and replased all tip cap screws iaw 15...      2.087995   1.715868  "
      ]
     },
     "execution_count": 2,
     "metadata": {},
     "output_type": "execute_result"
    }
   ],
   "source": [
    "data = pd.read_csv(\"./Data/output_test_curie_full_ppl.csv\")\n",
    "data.head()"
   ]
  },
  {
   "cell_type": "code",
   "execution_count": 12,
   "metadata": {},
   "outputs": [],
   "source": [
    "metrics_list = list_metrics()\n",
    "metric       = load_metric('sacrebleu')"
   ]
  },
  {
   "cell_type": "code",
   "execution_count": 28,
   "metadata": {},
   "outputs": [],
   "source": [
    "import transformers\n",
    "from transformers import GPT2Tokenizer\n",
    "from tqdm import tqdm\n",
    "tqdm.pandas()"
   ]
  },
  {
   "cell_type": "code",
   "execution_count": 29,
   "metadata": {},
   "outputs": [],
   "source": [
    "def get_gpt2_tokenized_text(text):\n",
    "    \"\"\"\n",
    "    Tokenize and create a list of tokenized words as per GPT-2 tokenizer \n",
    "    \"\"\"\n",
    "    tokenizer = GPT2Tokenizer.from_pretrained(\"gpt2\")\n",
    "    tokens1   = tokenizer(text)['input_ids']\n",
    "    list_toks = [tokenizer.decode(x).strip().lower() for x in tokens1]\n",
    "    return list_toks"
   ]
  },
  {
   "cell_type": "code",
   "execution_count": null,
   "metadata": {},
   "outputs": [
    {
     "name": "stderr",
     "output_type": "stream",
     "text": [
      "\n",
      "  0%|                                                                                         | 0/3320 [00:00<?, ?it/s]\u001b[A\n",
      "  0%|                                                                               | 1/3320 [00:01<1:30:30,  1.64s/it]\u001b[A\n",
      "  0%|                                                                               | 2/3320 [00:03<1:29:19,  1.62s/it]\u001b[A\n",
      "  0%|                                                                               | 3/3320 [00:04<1:29:56,  1.63s/it]\u001b[A\n",
      "  0%|                                                                               | 4/3320 [00:06<1:30:40,  1.64s/it]\u001b[A\n",
      "  0%|                                                                               | 5/3320 [00:08<1:29:57,  1.63s/it]\u001b[A\n",
      "  0%|▏                                                                              | 6/3320 [00:09<1:29:05,  1.61s/it]\u001b[A\n",
      "  0%|▏                                                                              | 7/3320 [00:11<1:30:15,  1.63s/it]\u001b[A\n",
      "  0%|▏                                                                              | 8/3320 [00:13<1:30:31,  1.64s/it]\u001b[A\n",
      "  0%|▏                                                                              | 9/3320 [00:15<1:40:03,  1.81s/it]\u001b[A\n",
      "  0%|▏                                                                             | 10/3320 [00:18<1:56:14,  2.11s/it]\u001b[A\n",
      "  0%|▎                                                                             | 11/3320 [00:19<1:47:19,  1.95s/it]\u001b[A\n",
      "  0%|▎                                                                             | 12/3320 [00:21<1:41:14,  1.84s/it]\u001b[A\n",
      "  0%|▎                                                                             | 13/3320 [00:22<1:37:09,  1.76s/it]\u001b[A\n",
      "  0%|▎                                                                             | 14/3320 [00:24<1:34:04,  1.71s/it]\u001b[A\n",
      "  0%|▎                                                                             | 15/3320 [00:25<1:31:53,  1.67s/it]\u001b[A\n",
      "  0%|▍                                                                             | 16/3320 [00:27<1:31:34,  1.66s/it]\u001b[A\n",
      "  1%|▍                                                                             | 17/3320 [00:29<1:29:24,  1.62s/it]\u001b[A\n",
      "  1%|▍                                                                             | 18/3320 [00:30<1:29:03,  1.62s/it]\u001b[A\n",
      "  1%|▍                                                                             | 19/3320 [00:32<1:27:53,  1.60s/it]\u001b[A\n",
      "  1%|▍                                                                             | 20/3320 [00:33<1:27:49,  1.60s/it]\u001b[A\n",
      "  1%|▍                                                                             | 21/3320 [00:35<1:27:29,  1.59s/it]\u001b[A\n",
      "  1%|▌                                                                             | 22/3320 [00:36<1:26:34,  1.58s/it]\u001b[A\n",
      "  1%|▌                                                                             | 23/3320 [00:38<1:26:32,  1.58s/it]\u001b[A\n",
      "  1%|▌                                                                             | 24/3320 [00:40<1:25:18,  1.55s/it]\u001b[A\n",
      "  1%|▌                                                                             | 25/3320 [00:41<1:24:53,  1.55s/it]\u001b[A\n",
      "  1%|▌                                                                             | 26/3320 [00:43<1:25:12,  1.55s/it]\u001b[A\n",
      "  1%|▋                                                                             | 27/3320 [00:44<1:25:57,  1.57s/it]\u001b[A\n",
      "  1%|▋                                                                             | 28/3320 [00:46<1:24:56,  1.55s/it]\u001b[A\n",
      "  1%|▋                                                                             | 29/3320 [00:47<1:23:05,  1.51s/it]\u001b[A\n",
      "  1%|▋                                                                             | 30/3320 [00:50<1:45:17,  1.92s/it]\u001b[A\n",
      "  1%|▋                                                                             | 31/3320 [00:52<1:53:17,  2.07s/it]\u001b[A\n",
      "  1%|▊                                                                             | 32/3320 [00:54<1:44:04,  1.90s/it]\u001b[A\n",
      "  1%|▊                                                                             | 33/3320 [00:56<1:38:32,  1.80s/it]\u001b[A\n",
      "  1%|▊                                                                             | 34/3320 [00:57<1:34:38,  1.73s/it]\u001b[A\n",
      "  1%|▊                                                                             | 35/3320 [00:59<1:33:34,  1.71s/it]\u001b[A\n",
      "  1%|▊                                                                             | 36/3320 [01:00<1:32:02,  1.68s/it]\u001b[A\n",
      "  1%|▊                                                                             | 37/3320 [01:02<1:30:35,  1.66s/it]\u001b[A\n",
      "  1%|▉                                                                             | 38/3320 [01:04<1:30:54,  1.66s/it]\u001b[A\n",
      "  1%|▉                                                                             | 39/3320 [01:05<1:28:13,  1.61s/it]\u001b[A\n",
      "  1%|▉                                                                             | 40/3320 [01:07<1:27:02,  1.59s/it]\u001b[A\n",
      "  1%|▉                                                                             | 41/3320 [01:08<1:27:19,  1.60s/it]\u001b[A\n",
      "  1%|▉                                                                             | 42/3320 [01:10<1:26:32,  1.58s/it]\u001b[A\n",
      "  1%|█                                                                             | 43/3320 [01:11<1:26:54,  1.59s/it]\u001b[A\n",
      "  1%|█                                                                             | 44/3320 [01:13<1:27:29,  1.60s/it]\u001b[A\n",
      "  1%|█                                                                             | 45/3320 [01:15<1:27:31,  1.60s/it]\u001b[A\n",
      "  1%|█                                                                             | 46/3320 [01:16<1:25:51,  1.57s/it]\u001b[A\n",
      "  1%|█                                                                             | 47/3320 [01:18<1:26:21,  1.58s/it]\u001b[A\n",
      "  1%|█▏                                                                            | 48/3320 [01:19<1:26:06,  1.58s/it]\u001b[A\n",
      "  1%|█▏                                                                            | 49/3320 [01:21<1:27:27,  1.60s/it]\u001b[A\n",
      "  2%|█▏                                                                            | 50/3320 [01:24<1:42:36,  1.88s/it]\u001b[A\n",
      "  2%|█▏                                                                            | 51/3320 [01:26<1:48:59,  2.00s/it]\u001b[A\n",
      "  2%|█▏                                                                            | 52/3320 [01:27<1:42:11,  1.88s/it]\u001b[A\n",
      "  2%|█▏                                                                            | 53/3320 [01:29<1:36:08,  1.77s/it]\u001b[A\n",
      "  2%|█▎                                                                            | 54/3320 [01:31<1:32:36,  1.70s/it]\u001b[A\n",
      "  2%|█▎                                                                            | 55/3320 [01:32<1:32:30,  1.70s/it]\u001b[A\n",
      "  2%|█▎                                                                            | 56/3320 [01:34<1:29:53,  1.65s/it]\u001b[A\n",
      "  2%|█▎                                                                            | 57/3320 [01:35<1:28:01,  1.62s/it]\u001b[A\n",
      "  2%|█▎                                                                            | 58/3320 [01:37<1:26:39,  1.59s/it]\u001b[A\n",
      "  2%|█▍                                                                            | 59/3320 [01:38<1:25:46,  1.58s/it]\u001b[A\n",
      "  2%|█▍                                                                            | 60/3320 [01:40<1:24:58,  1.56s/it]\u001b[A"
     ]
    }
   ],
   "source": [
    "pred_tokens = [get_gpt2_tokenized_text(i) for i in tqdm(data['Pred_Solution'])]"
   ]
  },
  {
   "cell_type": "code",
   "execution_count": null,
   "metadata": {},
   "outputs": [],
   "source": []
  }
 ],
 "metadata": {
  "kernelspec": {
   "display_name": "Python 3",
   "language": "python",
   "name": "python3"
  },
  "language_info": {
   "codemirror_mode": {
    "name": "ipython",
    "version": 3
   },
   "file_extension": ".py",
   "mimetype": "text/x-python",
   "name": "python",
   "nbconvert_exporter": "python",
   "pygments_lexer": "ipython3",
   "version": "3.8.5"
  }
 },
 "nbformat": 4,
 "nbformat_minor": 4
}
