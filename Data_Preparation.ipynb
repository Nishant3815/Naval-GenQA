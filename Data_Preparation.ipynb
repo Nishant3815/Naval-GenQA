{
 "cells": [
  {
   "cell_type": "code",
   "execution_count": 1,
   "metadata": {},
   "outputs": [],
   "source": [
    "import numpy as np\n",
    "import pandas as pd "
   ]
  },
  {
   "cell_type": "code",
   "execution_count": 2,
   "metadata": {},
   "outputs": [],
   "source": [
    "# Data Source: XML exports of past Maintenance Action Form (MAF)\n",
    "# records extracted from the Decision Knowledge\n",
    "# Programming for Logistics Analysis and Technical\n",
    "# Evaluation (DECKPLATE) system, the NAVAIR data\n",
    "# warehouse for aircraft maintenance, flight, and usage\n",
    "# data.\n",
    "\n",
    "\n",
    "# Load test, validation and train datasets\n",
    "val_x = pd.read_csv(\"./Data/development-x.csv\")\n",
    "val_y = pd.read_csv(\"./Data/development-y.csv\")\n",
    "# Create a training dataset\n",
    "train_x = pd.read_csv(\"./Data/training-x.csv\")\n",
    "train_y = pd.read_csv(\"./Data/training-y.csv\")\n",
    "# Create a testing dataset\n",
    "test_x = pd.read_csv(\"./Data/test-x.csv\")\n",
    "test_y = pd.read_csv(\"./Data/test-y.csv\")"
   ]
  },
  {
   "cell_type": "code",
   "execution_count": 3,
   "metadata": {},
   "outputs": [],
   "source": [
    "# Rename first column\n",
    "train_x.rename(columns={'Unnamed: 0':'Code'},inplace=True)\n",
    "train_y.rename(columns={'Unnamed: 0':'Code'},inplace=True)\n",
    "test_x.rename(columns={'Unnamed: 0':'Code'},inplace=True)\n",
    "test_y.rename(columns={'Unnamed: 0':'Code'},inplace=True)\n",
    "val_x.rename(columns={'Unnamed: 0':'Code'},inplace=True)\n",
    "val_y.rename(columns={'Unnamed: 0':'Code'},inplace=True)"
   ]
  },
  {
   "cell_type": "code",
   "execution_count": 4,
   "metadata": {},
   "outputs": [],
   "source": [
    "# train = train_x.merge(train_y,how='inner',on='Code')\n",
    "# test  = test_x.merge(test_y,how='inner',on='Code')\n",
    "# val   = val_x.merge(val_y,how='inner',on='Code')\n",
    "\n",
    "train = pd.concat([train_x,train_y[['CORRECTIVE ACTION']]],axis=1)\n",
    "test  = pd.concat([test_x,test_y[['CORRECTIVE ACTION']]],axis=1)\n",
    "val   = pd.concat([val_x,val_y[['CORRECTIVE ACTION']]],axis=1)"
   ]
  },
  {
   "cell_type": "code",
   "execution_count": 5,
   "metadata": {},
   "outputs": [],
   "source": [
    "del train['Code']\n",
    "del test['Code']\n",
    "del val['Code']"
   ]
  },
  {
   "cell_type": "code",
   "execution_count": 6,
   "metadata": {},
   "outputs": [],
   "source": [
    "# train.columns = ['prompt','completion']\n",
    "# test.columns  = ['prompt', 'completion']\n",
    "# val.columns   = ['prompt','completion']"
   ]
  },
  {
   "cell_type": "code",
   "execution_count": 7,
   "metadata": {},
   "outputs": [],
   "source": [
    "train.fillna(\"No information available\",inplace=True)\n",
    "test.fillna(\"No information available\",inplace=True)\n",
    "val.fillna(\"No information available\",inplace=True)"
   ]
  },
  {
   "cell_type": "code",
   "execution_count": 8,
   "metadata": {},
   "outputs": [
    {
     "data": {
      "text/html": [
       "<div>\n",
       "<style scoped>\n",
       "    .dataframe tbody tr th:only-of-type {\n",
       "        vertical-align: middle;\n",
       "    }\n",
       "\n",
       "    .dataframe tbody tr th {\n",
       "        vertical-align: top;\n",
       "    }\n",
       "\n",
       "    .dataframe thead th {\n",
       "        text-align: right;\n",
       "    }\n",
       "</style>\n",
       "<table border=\"1\" class=\"dataframe\">\n",
       "  <thead>\n",
       "    <tr style=\"text-align: right;\">\n",
       "      <th></th>\n",
       "      <th>DISCREPANCY</th>\n",
       "      <th>CORRECTIVE ACTION</th>\n",
       "    </tr>\n",
       "  </thead>\n",
       "  <tbody>\n",
       "    <tr>\n",
       "      <th>0</th>\n",
       "      <td>rh nose landing gear tire has multiple cuts ex...</td>\n",
       "      <td>removed and replaced rh nlg tire iaw sss 3240 ...</td>\n",
       "    </tr>\n",
       "    <tr>\n",
       "      <th>1</th>\n",
       "      <td>mrh accumulator low</td>\n",
       "      <td>serviced mrh accumulator to second green iaw g...</td>\n",
       "    </tr>\n",
       "    <tr>\n",
       "      <th>2</th>\n",
       "      <td>hole in yellow tail rotor boot. mrc-300 card 1...</td>\n",
       "      <td>applied rtv to hole in yellow tail rotor boot ...</td>\n",
       "    </tr>\n",
       "    <tr>\n",
       "      <th>3</th>\n",
       "      <td>ib hydraulic hose for lh mlg brake pressure ha...</td>\n",
       "      <td>No information available</td>\n",
       "    </tr>\n",
       "    <tr>\n",
       "      <th>4</th>\n",
       "      <td>mrh fluid level is low</td>\n",
       "      <td>servicing not required iaw: gai-000. area clea...</td>\n",
       "    </tr>\n",
       "    <tr>\n",
       "      <th>...</th>\n",
       "      <td>...</td>\n",
       "      <td>...</td>\n",
       "    </tr>\n",
       "    <tr>\n",
       "      <th>22402</th>\n",
       "      <td>main rotor head vibes out of limits.</td>\n",
       "      <td>removed all main rotor head weights and went d...</td>\n",
       "    </tr>\n",
       "    <tr>\n",
       "      <th>22403</th>\n",
       "      <td>scir change:  00jchl0.  blue main rotor blade ...</td>\n",
       "      <td>removed and replaced  blue main rotor blade ti...</td>\n",
       "    </tr>\n",
       "    <tr>\n",
       "      <th>22404</th>\n",
       "      <td>red spindle bolt underneath detent springs has...</td>\n",
       "      <td>inspected red hinge bolt iaw 260-300. performe...</td>\n",
       "    </tr>\n",
       "    <tr>\n",
       "      <th>22405</th>\n",
       "      <td>red inboard damper bearing worn out of limits ...</td>\n",
       "      <td>removed and replaced red inboard damper bearin...</td>\n",
       "    </tr>\n",
       "    <tr>\n",
       "      <th>22406</th>\n",
       "      <td>yellow damper elbow jam nut is loose.</td>\n",
       "      <td>yellow damper elbow jam nut re-torqued no furt...</td>\n",
       "    </tr>\n",
       "  </tbody>\n",
       "</table>\n",
       "<p>22407 rows × 2 columns</p>\n",
       "</div>"
      ],
      "text/plain": [
       "                                             DISCREPANCY  \\\n",
       "0      rh nose landing gear tire has multiple cuts ex...   \n",
       "1                                    mrh accumulator low   \n",
       "2      hole in yellow tail rotor boot. mrc-300 card 1...   \n",
       "3      ib hydraulic hose for lh mlg brake pressure ha...   \n",
       "4                       mrh fluid level is low             \n",
       "...                                                  ...   \n",
       "22402               main rotor head vibes out of limits.   \n",
       "22403  scir change:  00jchl0.  blue main rotor blade ...   \n",
       "22404  red spindle bolt underneath detent springs has...   \n",
       "22405  red inboard damper bearing worn out of limits ...   \n",
       "22406    yellow damper elbow jam nut is loose.             \n",
       "\n",
       "                                       CORRECTIVE ACTION  \n",
       "0      removed and replaced rh nlg tire iaw sss 3240 ...  \n",
       "1      serviced mrh accumulator to second green iaw g...  \n",
       "2      applied rtv to hole in yellow tail rotor boot ...  \n",
       "3                               No information available  \n",
       "4      servicing not required iaw: gai-000. area clea...  \n",
       "...                                                  ...  \n",
       "22402  removed all main rotor head weights and went d...  \n",
       "22403  removed and replaced  blue main rotor blade ti...  \n",
       "22404  inspected red hinge bolt iaw 260-300. performe...  \n",
       "22405  removed and replaced red inboard damper bearin...  \n",
       "22406  yellow damper elbow jam nut re-torqued no furt...  \n",
       "\n",
       "[22407 rows x 2 columns]"
      ]
     },
     "execution_count": 8,
     "metadata": {},
     "output_type": "execute_result"
    }
   ],
   "source": [
    "train"
   ]
  },
  {
   "cell_type": "code",
   "execution_count": 15,
   "metadata": {},
   "outputs": [],
   "source": [
    "train['prompt'] = train['DISCREPANCY'] + \" \\n\\n###\\n\\n\"\n",
    "train['completion'] = \" \"+ train['CORRECTIVE ACTION'] + \" <EOS>\"\n",
    "\n",
    "val['prompt'] = val['DISCREPANCY'] + \" \\n\\n###\\n\\n\"\n",
    "val['completion'] = \" \"+ val['CORRECTIVE ACTION'] + \" <EOS>\"\n",
    "\n",
    "test['prompt'] = test['DISCREPANCY'] + \" \\n\\n###\\n\\n\"\n",
    "test['completion'] = \" \"+ test['CORRECTIVE ACTION'] + \" <EOS>\""
   ]
  },
  {
   "cell_type": "code",
   "execution_count": 19,
   "metadata": {},
   "outputs": [],
   "source": [
    "del train['DISCREPANCY']\n",
    "del train['CORRECTIVE ACTION']\n",
    "\n",
    "del val['DISCREPANCY']\n",
    "del val['CORRECTIVE ACTION']\n",
    "\n",
    "del test['DISCREPANCY']\n",
    "del test['CORRECTIVE ACTION']"
   ]
  },
  {
   "cell_type": "code",
   "execution_count": 22,
   "metadata": {},
   "outputs": [],
   "source": [
    "train.to_csv(\"./Data/train_gpt3.csv\",index=False)\n",
    "val.to_csv(\"./Data/val_gpt3.csv\",index=False)\n",
    "test.to_csv(\"./Data/test_gpt3.csv\",index=False)"
   ]
  },
  {
   "cell_type": "code",
   "execution_count": null,
   "metadata": {},
   "outputs": [],
   "source": []
  }
 ],
 "metadata": {
  "kernelspec": {
   "display_name": "Python 3",
   "language": "python",
   "name": "python3"
  },
  "language_info": {
   "codemirror_mode": {
    "name": "ipython",
    "version": 3
   },
   "file_extension": ".py",
   "mimetype": "text/x-python",
   "name": "python",
   "nbconvert_exporter": "python",
   "pygments_lexer": "ipython3",
   "version": "3.8.5"
  }
 },
 "nbformat": 4,
 "nbformat_minor": 4
}
